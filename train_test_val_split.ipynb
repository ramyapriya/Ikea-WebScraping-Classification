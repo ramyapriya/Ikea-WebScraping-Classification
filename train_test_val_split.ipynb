{
 "cells": [
  {
   "cell_type": "markdown",
   "metadata": {},
   "source": [
    "# Splitting the Dataset to Train and Test Set"
   ]
  },
  {
   "cell_type": "code",
   "execution_count": 33,
   "metadata": {},
   "outputs": [],
   "source": [
    "import glob\n",
    "from shutil import copyfile, move\n",
    "import os\n",
    "import cv2"
   ]
  },
  {
   "cell_type": "code",
   "execution_count": 24,
   "metadata": {},
   "outputs": [],
   "source": [
    "image_dirs = ['beds','chairs','tables','tableware']"
   ]
  },
  {
   "cell_type": "code",
   "execution_count": 25,
   "metadata": {},
   "outputs": [],
   "source": [
    "for image_dir in image_dirs:\n",
    "    counter = 0\n",
    "    sub_dirs = glob.glob(image_dir + '/*')\n",
    "    for dirs in sub_dirs:\n",
    "        for image in glob.glob(dirs + '/*.jpg'):\n",
    "            copyfile(image,'train/' + image_dir + '/' + str(counter) + '.jpg')\n",
    "            counter += 1"
   ]
  },
  {
   "cell_type": "code",
   "execution_count": 26,
   "metadata": {},
   "outputs": [],
   "source": [
    "####### Trian Test split      # 10% test and 20% validation"
   ]
  },
  {
   "cell_type": "code",
   "execution_count": 28,
   "metadata": {},
   "outputs": [],
   "source": [
    "from sklearn.model_selection import train_test_split"
   ]
  },
  {
   "cell_type": "code",
   "execution_count": 37,
   "metadata": {},
   "outputs": [],
   "source": [
    "for image_dir in image_dirs:\n",
    "    all_images = glob.glob('train/' + image_dir + '/*')\n",
    "    _ , test_images = train_test_split(all_images,shuffle=True,test_size = .1)\n",
    "    for image in test_images:\n",
    "        move(image,'test/' + image_dir + '/' + os.path.basename(image))"
   ]
  },
  {
   "cell_type": "code",
   "execution_count": 38,
   "metadata": {},
   "outputs": [],
   "source": [
    "for image_dir in image_dirs:\n",
    "    all_images = glob.glob('train/' + image_dir + '/*')\n",
    "    _ , validation_images = train_test_split(all_images,shuffle=True,test_size = .2)\n",
    "    for image in validation_images:\n",
    "        move(image,'valid/' + image_dir + '/' + os.path.basename(image))"
   ]
  },
  {
   "cell_type": "code",
   "execution_count": null,
   "metadata": {},
   "outputs": [],
   "source": [
    "# Augment beds images by flipping each image\n",
    "images = glob.glob('train/beds/*')\n",
    "for img in images:\n",
    "    i = cv2.imread(img)\n",
    "    print(img)\n",
    "    plt.imshow(i)\n",
    "    plt.show()\n",
    "    i = cv2.flip(i,1)\n",
    "    plt.imshow(i)\n",
    "    plt.show()\n",
    "    cv2.imwrite('train/beds/' + 'flip_' + os.path.basename(img),i)"
   ]
  }
 ],
 "metadata": {
  "kernelspec": {
   "display_name": "Python 3",
   "language": "python",
   "name": "python3"
  },
  "language_info": {
   "codemirror_mode": {
    "name": "ipython",
    "version": 3
   },
   "file_extension": ".py",
   "mimetype": "text/x-python",
   "name": "python",
   "nbconvert_exporter": "python",
   "pygments_lexer": "ipython3",
   "version": "3.6.10"
  },
  "widgets": {
   "state": {},
   "version": "1.1.2"
  }
 },
 "nbformat": 4,
 "nbformat_minor": 2
}
